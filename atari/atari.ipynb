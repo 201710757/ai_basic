{
  "nbformat": 4,
  "nbformat_minor": 0,
  "metadata": {
    "colab": {
      "name": "atari.ipynb",
      "provenance": [],
      "mount_file_id": "12GndDZloPg-pc8dIiftbnp1K-X4Dhl1j",
      "authorship_tag": "ABX9TyMYqr/L4BMnRCnVRDGbViaE"
    },
    "kernelspec": {
      "name": "python3",
      "display_name": "Python 3"
    },
    "language_info": {
      "name": "python"
    },
    "accelerator": "GPU"
  },
  "cells": [
    {
      "cell_type": "code",
      "metadata": {
        "colab": {
          "base_uri": "https://localhost:8080/"
        },
        "id": "lKqYF4YwtbuS",
        "outputId": "aea31883-dd93-48d2-f0bf-b7dda6059529"
      },
      "source": [
        "!nvidia-smi"
      ],
      "execution_count": 1,
      "outputs": [
        {
          "output_type": "stream",
          "text": [
            "Fri Aug 20 13:55:40 2021       \n",
            "+-----------------------------------------------------------------------------+\n",
            "| NVIDIA-SMI 470.57.02    Driver Version: 460.32.03    CUDA Version: 11.2     |\n",
            "|-------------------------------+----------------------+----------------------+\n",
            "| GPU  Name        Persistence-M| Bus-Id        Disp.A | Volatile Uncorr. ECC |\n",
            "| Fan  Temp  Perf  Pwr:Usage/Cap|         Memory-Usage | GPU-Util  Compute M. |\n",
            "|                               |                      |               MIG M. |\n",
            "|===============================+======================+======================|\n",
            "|   0  Tesla V100-SXM2...  Off  | 00000000:00:04.0 Off |                    0 |\n",
            "| N/A   35C    P0    24W / 300W |      0MiB / 16160MiB |      0%      Default |\n",
            "|                               |                      |                  N/A |\n",
            "+-------------------------------+----------------------+----------------------+\n",
            "                                                                               \n",
            "+-----------------------------------------------------------------------------+\n",
            "| Processes:                                                                  |\n",
            "|  GPU   GI   CI        PID   Type   Process name                  GPU Memory |\n",
            "|        ID   ID                                                   Usage      |\n",
            "|=============================================================================|\n",
            "|  No running processes found                                                 |\n",
            "+-----------------------------------------------------------------------------+\n"
          ],
          "name": "stdout"
        }
      ]
    },
    {
      "cell_type": "code",
      "metadata": {
        "id": "RnXIGQr2tewt"
      },
      "source": [
        "import os\n",
        "os.chdir('/content/drive/MyDrive/jihoon/colab')"
      ],
      "execution_count": 2,
      "outputs": []
    },
    {
      "cell_type": "code",
      "metadata": {
        "id": "u_22yqMXuwRU"
      },
      "source": [
        "# ! wget http://www.atarimania.com/roms/Roms.rar\n",
        "# ! unrar e ./Roms.rar ./ROM/\n",
        "! python -m atari_py.import_roms ./ROM/"
      ],
      "execution_count": null,
      "outputs": []
    },
    {
      "cell_type": "code",
      "metadata": {
        "id": "RfvBEoApyFIU"
      },
      "source": [
        "!pip install 'stable-baselines3[extra]'\n",
        "!pip install stable-baselines3"
      ],
      "execution_count": null,
      "outputs": []
    },
    {
      "cell_type": "code",
      "metadata": {
        "id": "EHOXoErDys_4"
      },
      "source": [
        "# Rendering\n",
        "\n",
        "!apt-get install -y xvfb x11-utils\n",
        "!pip install pyvirtualdisplay==0.2.* PyOpenGL==3.1.* PyOpenGL-accelerate==3.1.*\n",
        "from pyvirtualdisplay import Display \n",
        "import matplotlib.pyplot as plt \n",
        "import random\n",
        "display = Display(visible=False, size=(400, 300)) \n",
        "display.start()\n",
        "\n",
        "# Rendering"
      ],
      "execution_count": 5,
      "outputs": []
    },
    {
      "cell_type": "code",
      "metadata": {
        "id": "hKlF2rMSwa6S"
      },
      "source": [
        "import gym\n",
        "from stable_baselines3 import A2C\n",
        "from stable_baselines3.common.policies import ActorCriticCnnPolicy\n",
        "from stable_baselines3.common.env_util import make_vec_env\n",
        "from stable_baselines3.common.vec_env import VecFrameStack\n",
        "env = make_vec_env('BreakoutNoFrameskip-v4', n_envs=16, seed=0)\n",
        "env = VecFrameStack(env, n_stack=4)"
      ],
      "execution_count": 7,
      "outputs": []
    },
    {
      "cell_type": "code",
      "metadata": {
        "id": "ZfNBGnELyWd1"
      },
      "source": [
        "model = A2C(ActorCriticCnnPolicy, env)"
      ],
      "execution_count": 10,
      "outputs": []
    },
    {
      "cell_type": "code",
      "metadata": {
        "id": "WtARKcSwvSN_"
      },
      "source": [
        "model.learn(total_timesteps=int(5e6), log_interval=4)\n",
        "model.save('a2c_breakout')"
      ],
      "execution_count": null,
      "outputs": []
    },
    {
      "cell_type": "code",
      "metadata": {
        "id": "zCLFdBRY2lYN"
      },
      "source": [
        ""
      ],
      "execution_count": null,
      "outputs": []
    }
  ]
}