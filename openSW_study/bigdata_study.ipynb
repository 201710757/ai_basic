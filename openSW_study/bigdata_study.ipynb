{
  "nbformat": 4,
  "nbformat_minor": 0,
  "metadata": {
    "colab": {
      "name": "bigdata_study.ipynb",
      "provenance": [],
      "authorship_tag": "ABX9TyMrjQotvZLMrPUNGNKMhwz4"
    },
    "kernelspec": {
      "name": "python3",
      "display_name": "Python 3"
    },
    "language_info": {
      "name": "python"
    }
  },
  "cells": [
    {
      "cell_type": "markdown",
      "metadata": {
        "id": "MiTpZOMGrR-z"
      },
      "source": [
        "실행 후 런타임 재시작"
      ]
    },
    {
      "cell_type": "code",
      "metadata": {
        "id": "EPW4rmnwrK08"
      },
      "source": [
        "!sudo apt-get install -y fonts-nanum\n",
        "!sudo fc-cache -fv\n",
        "!rm ~/.cache/matplotlib -rf"
      ],
      "execution_count": null,
      "outputs": []
    },
    {
      "cell_type": "code",
      "metadata": {
        "id": "83u019MWrZkU"
      },
      "source": [
        "##### colab matplotlib 한글 setting "
      ],
      "execution_count": null,
      "outputs": []
    },
    {
      "cell_type": "markdown",
      "metadata": {
        "id": "m-KIP312rWDT"
      },
      "source": [
        "재시작 후 실행"
      ]
    },
    {
      "cell_type": "code",
      "metadata": {
        "id": "ImaYTNeDrLRs"
      },
      "source": [
        "import numpy as np\n",
        "import pandas as pd\n",
        "import matplotlib.pyplot as plt"
      ],
      "execution_count": null,
      "outputs": []
    },
    {
      "cell_type": "code",
      "metadata": {
        "id": "kEcXGrzTrLPN"
      },
      "source": [
        "'''\n",
        "## 15년도\n",
        "df_2015 = pd.read_csv('age2015.csv', sep=',', encoding='cp949', index_col=0, thousands=',')\n",
        "\n",
        "c = ['총인구수', '연령구간인구수']\n",
        "for i in range(101):\n",
        "  if i<100:\n",
        "    c.append(str(i)+\"세\")\n",
        "  else:\n",
        "    c.append(str(i)+'세 이상')\n",
        "df_2015.columns = c\n",
        "df_2015 = df_2015[df_2015['총인구수'] != 0]\n",
        "\n",
        "df_2015 = df_2015.div(df_2015['총인구수'], axis=0)\n",
        "\n",
        "del df_2015['총인구수'], df_2015['연령구간인구수']\n",
        "df_2015.info()\n",
        "\n",
        "\n",
        "\n",
        "## 20년도\n",
        "df_2020 = pd.read_csv('age2020.csv', sep=',', encoding='cp949', index_col=0, thousands=',')\n",
        "\n",
        "c = ['총인구수', '연령구간인구수']\n",
        "for i in range(101):\n",
        "  if i<100:\n",
        "    c.append(str(i)+\"세\")\n",
        "  else:\n",
        "    c.append(str(i)+'세 이상')\n",
        "df_2020.columns = c\n",
        "df_2020 = df_2020[df_2020['총인구수'] != 0]\n",
        "\n",
        "df_2020 = df_2020.div(df_2020['총인구수'], axis=0)\n",
        "\n",
        "del df_2020['총인구수'], df_2020['연령구간인구수']\n",
        "df_2020.info()\n",
        "\n",
        "\n",
        "## 21년도\n",
        "df = pd.read_csv('age.csv', sep=',', encoding='cp949', index_col=0, thousands=',')\n",
        "\n",
        "c = ['총인구수', '연령구간인구수']\n",
        "for i in range(101):\n",
        "  if i<100:\n",
        "    c.append(str(i)+\"세\")\n",
        "  else:\n",
        "    c.append(str(i)+'세 이상')\n",
        "df.columns = c\n",
        "df = df[df['총인구수'] != 0]\n",
        "\n",
        "df = df.div(df['총인구수'], axis=0)\n",
        "\n",
        "del df['총인구수'], df['연령구간인구수']\n",
        "df.info()\n",
        "'''\n",
        "\n",
        "def getData(file_):\n",
        "  df = pd.read_csv(file_, sep=',', encoding='cp949', index_col=0, thousands=',')\n",
        "\n",
        "  c = ['총인구수', '연령구간인구수']\n",
        "  for i in range(101):\n",
        "    if i<100:\n",
        "      c.append(str(i)+\"세\")\n",
        "    else:\n",
        "      c.append(str(i)+'세 이상')\n",
        "  df.columns = c\n",
        "  df = df[df['총인구수'] != 0]\n",
        "\n",
        "  df = df.div(df['총인구수'], axis=0)\n",
        "\n",
        "  del df['총인구수'], df['연령구간인구수']\n",
        "  df.info()\n",
        "  return df.copy()\n",
        "  \n",
        "df_2015 = getData('age2015.csv')\n",
        "df_2020 = getData('age2020.csv')\n",
        "df = getData('age.csv')\n",
        "\n",
        "\n",
        "## 그래프\n",
        "plt.rc('font', family='NanumBarunGothic')\n",
        "area = input('관심 지역 : ')\n",
        "location = df.index.str.contains(area)\n",
        "location_2020 = df_2020.index.str.contains(area)\n",
        "location_2015 = df_2015.index.str.contains(area)\n",
        "\n",
        "d21 = df[location]\n",
        "d20 = df_2020[location_2020]\n",
        "d15 = df_2015[location_2015]\n",
        "\n",
        "d15 = d15.rename(index={d15.index[0]: \"2015\"+d15.index[0]})\n",
        "d20 = d20.rename(index={d20.index[0]: \"2020\"+d20.index[0]})\n",
        "d21 = d21.rename(index={d21.index[0]: \"2021\"+d21.index[0]})\n",
        "df_comp = pd.concat([d15, d20, d21])\n",
        "df_comp.T.plot() \n",
        "\n",
        "plt.show()"
      ],
      "execution_count": null,
      "outputs": []
    }
  ]
}